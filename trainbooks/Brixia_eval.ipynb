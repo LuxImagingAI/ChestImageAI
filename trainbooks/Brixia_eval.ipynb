{
 "cells": [
  {
   "cell_type": "code",
   "execution_count": null,
   "id": "fcb833a2",
   "metadata": {},
   "outputs": [],
   "source": [
    "import os, glob, json\n",
    "import pandas as pd\n",
    "import numpy as np\n",
    "import seaborn as sns\n",
    "import matplotlib.pyplot as plt\n",
    "import matplotlib\n",
    "import collections\n",
    "import cv2\n",
    "import tqdm\n",
    "from PIL import Image\n",
    "import torch\n",
    "import torchvision.models\n",
    "\n",
    "import sklearn\n",
    "import sklearn.metrics\n",
    "from scipy.special import expit\n",
    "\n",
    "import scipy.special\n",
    "import seaborn as sns\n",
    "import sklearn.metrics as skm"
   ]
  },
  {
   "cell_type": "code",
   "execution_count": null,
   "id": "a405238d",
   "metadata": {},
   "outputs": [],
   "source": [
    "1+1"
   ]
  },
  {
   "cell_type": "code",
   "execution_count": null,
   "id": "9385c2c0",
   "metadata": {},
   "outputs": [],
   "source": [
    "import sys\n",
    "sys.path.append('/home/users/jsoelter/Code/ChestImageAI/utils/')\n",
    "sys.path.append('/home/users/jsoelter/Code/big_transfer/')\n",
    "\n",
    "import data_loader, evaluations, model_setup, sacred"
   ]
  },
  {
   "cell_type": "markdown",
   "id": "b18f19b4",
   "metadata": {},
   "source": [
    "## Model Performance Comparison"
   ]
  },
  {
   "cell_type": "code",
   "execution_count": null,
   "id": "b52c58b5",
   "metadata": {
    "tags": [
     "parameters"
    ]
   },
   "outputs": [],
   "source": [
    "models = [\n",
    "    '/work/projects/covid19_dv/models/brixia/jan/local/att2/',\n",
    "    '/work/projects/covid19_dv/models/brixia/jan/local/att1/',\n",
    "    #'/work/projects/covid19_dv/models/brixia/jan/local/att3/',\n",
    "    #'/work/projects/covid19_dv/models/brixia/jan/local/att4/',\n",
    "    #'/work/projects/covid19_dv/models/brixia/jan/local/att5/',\n",
    "    #'/work/projects/covid19_dv/models/brixia/jan/local/att6/',\n",
    "  '/work/projects/covid19_dv/models/brixia/jan/local/att7/',    \n",
    "    #'/work/projects/covid19_dv/models/brixia/jan/local/att8/',    \n",
    "    #'/work/projects/covid19_dv/models/brixia/jan/local/att9/',    \n",
    "    #'/work/projects/covid19_dv/models/brixia/jan/local/att10/',    \n",
    "    #'/work/projects/covid19_dv/models/brixia/jan/local/att12/',    \n",
    "\n",
    "    #'/work/projects/covid19_dv/models/brixia/jan/global/plain1/',    \n",
    "    #'/work/projects/covid19_dv/models/brixia/jan/global/onlyAP/',    \n",
    "\n",
    "    \n",
    "]\n"
   ]
  },
  {
   "cell_type": "code",
   "execution_count": null,
   "id": "d8d5195f",
   "metadata": {
    "lines_to_next_cell": 2
   },
   "outputs": [],
   "source": [
    "for model in models:\n",
    "    ledger = json.load(open(os.path.join(model, 'train_ledger.json')))\n",
    "    \n",
    "    fig = plt.figure(figsize=(20,8)) \n",
    "    gs = matplotlib.gridspec.GridSpec(3,1,height_ratios=(1,4,4), hspace=0)\n",
    "\n",
    "    ax = plt.subplot(gs[0])\n",
    "    plt.plot(ledger['lr'], 'k')\n",
    "    plt.xticks([])\n",
    "    plt.ylabel('lr')\n",
    "    plt.yscale('log')\n",
    "    plt.xlim([0, 4000])\n",
    "\n",
    "    ax = plt.subplot(gs[1])\n",
    "    plt.plot(ledger['train_loss'], alpha=0.1) #, np.hstack([np.zeros(99), np.ones(100)/100]), mode = 'same'))\n",
    "    plt.plot(np.convolve(ledger['train_loss'], np.hstack([np.zeros(9), np.ones(10)/10]), mode = 'same'), color='b', label='train')\n",
    "    plt.plot(*np.array(ledger['internal']).T, 'o-', label='val')\n",
    "    #plt.yscale('log')\n",
    "    plt.legend()\n",
    "    plt.grid()\n",
    "    #plt.yscale('log')\n",
    "    plt.ylabel('cross entropy')\n",
    "    #plt.xticks([])\n",
    "    plt.ylim([2, 7])\n",
    "    plt.xlim([0, 4000])"
   ]
  },
  {
   "cell_type": "markdown",
   "id": "b97453a0",
   "metadata": {},
   "source": [
    "## Deeper Model Evaluation"
   ]
  },
  {
   "cell_type": "code",
   "execution_count": null,
   "id": "8696e5ac",
   "metadata": {},
   "outputs": [],
   "source": [
    "model_checkpoint = '/work/projects/covid19_dv/models/brixia/jan/local/att2/step03600.pt'\n",
    "#model_checkpoint = '/work/projects/covid19_dv/models/brixia/jan/local/att7/step03000.pt'\n",
    "#model_checkpoint = '/work/projects/covid19_dv/models/brixia/jan/global/onlyAP/step03000.pt'\n",
    "#model_checkpoint = '/work/projects/covid19_dv/models/brixia/jan/global/plain1/step02000.pt'\n",
    "device = torch.device(\"cuda:1\")\n",
    "\n",
    "dirname = os.path.dirname(model_checkpoint)\n",
    "ledger = json.load(open(os.path.join(dirname, 'train_ledger.json')))"
   ]
  },
  {
   "cell_type": "code",
   "execution_count": null,
   "id": "dc488050",
   "metadata": {},
   "outputs": [],
   "source": [
    "p = sacred.ParameterStore(defaults=ledger['train_setup']['0']['setup'])"
   ]
  },
  {
   "cell_type": "markdown",
   "id": "ca7aa616",
   "metadata": {},
   "source": [
    "### Data Setup"
   ]
  },
  {
   "cell_type": "code",
   "execution_count": null,
   "id": "28d41957",
   "metadata": {},
   "outputs": [],
   "source": [
    "p.params['data_setup']"
   ]
  },
  {
   "cell_type": "code",
   "execution_count": null,
   "id": "b32d286f",
   "metadata": {},
   "outputs": [],
   "source": [
    "p.params['data_setup']['data']['subset'] = {}"
   ]
  },
  {
   "cell_type": "code",
   "execution_count": null,
   "id": "704d3ed4",
   "metadata": {},
   "outputs": [],
   "source": [
    "prepro = data_loader.transform_pipeline_from_dict(p.data_setup['prepro'])\n",
    "train_aug = data_loader.transform_pipeline_from_listdict(p.data_setup, ['prepro_dynamic', 'train_aug'])\n",
    "test_aug = data_loader.transform_pipeline_from_listdict(p.data_setup, ['prepro_dynamic', 'test_aug'])\n",
    "\n",
    "train_data = data_loader.BrixiaData(transform=train_aug, deterministic_transform=prepro, **p.data_setup['data'], cache={})\n",
    "val_data = data_loader.BrixiaData(transform=test_aug, deterministic_transform=prepro, **p.data_setup['data'], cache={}, validation=True)\n",
    "val_data_tta = data_loader.BrixiaData(transform=train_aug, deterministic_transform=prepro, **p.data_setup['data'], cache={}, validation=True)"
   ]
  },
  {
   "cell_type": "code",
   "execution_count": null,
   "id": "cbf25fa3",
   "metadata": {},
   "outputs": [],
   "source": [
    "cache_folder = os.path.join('/work/projects/covid19_dv/models/brixia/cache')\n",
    "train_data.preload(cache_folder)\n",
    "val_data.preload(cache_folder)"
   ]
  },
  {
   "cell_type": "code",
   "execution_count": null,
   "id": "4e22137a",
   "metadata": {},
   "outputs": [],
   "source": [
    "computational_setup = dict(\n",
    "    num_workers = 8,\n",
    "    batch_size = 16\n",
    ")\n",
    "train_loader = torch.utils.data.DataLoader(train_data, **computational_setup)\n",
    "valid_loader = torch.utils.data.DataLoader(val_data, **computational_setup)\n",
    "valid_loader_tta = torch.utils.data.DataLoader(val_data_tta, **computational_setup)"
   ]
  },
  {
   "cell_type": "markdown",
   "id": "114d36da",
   "metadata": {},
   "source": [
    "### Model setup"
   ]
  },
  {
   "cell_type": "code",
   "execution_count": null,
   "id": "180cb268",
   "metadata": {},
   "outputs": [],
   "source": [
    "p.model_dict"
   ]
  },
  {
   "cell_type": "code",
   "execution_count": null,
   "id": "51d4af55",
   "metadata": {},
   "outputs": [],
   "source": [
    "import importlib\n",
    "importlib.reload(model_setup)"
   ]
  },
  {
   "cell_type": "code",
   "execution_count": null,
   "id": "a3ca8e9b",
   "metadata": {},
   "outputs": [],
   "source": [
    "p.model_dict['pretrained'] = model_checkpoint\n",
    "p.model_dict['fresh_head_weights'] = False\n",
    "\n",
    "model = model_setup.instantiate_model(**p.model_dict)\n",
    "model = model.to(device)\n",
    "\n",
    "classp = torch.nn.Softmax(dim=-1)\n",
    "\n",
    "is_global = p.data_setup['data'].get('global_score', False)"
   ]
  },
  {
   "cell_type": "code",
   "execution_count": null,
   "id": "97774362",
   "metadata": {},
   "outputs": [],
   "source": [
    "base_loss = getattr(torch.nn, p.loss['class'])(**p.loss.get('param', {}), reduction='sum')\n",
    "if is_global:\n",
    "    crit = lambda x, y: (base_loss(x, y.long()), np.sum(y.shape))\n",
    "else:\n",
    "    crit = lambda x, y: (base_loss(torch.transpose(x, 1,2), y.long()), np.sum(y.shape))\n",
    "\n",
    "print(f'Crit: {evaluations.eval_crit(model, train_loader, crit, device=device):.3f}')\n",
    "print(f'Crit: {evaluations.eval_crit(model, valid_loader, crit, device=device):.3f}')\n",
    "print(f'Crit: {evaluations.eval_crit(model, valid_loader_tta, crit, device=device):.3f}')"
   ]
  },
  {
   "cell_type": "code",
   "execution_count": null,
   "id": "52303473",
   "metadata": {},
   "outputs": [],
   "source": [
    "pred_val, target_val = evaluations.batch_prediction(model, valid_loader, device=device)\n",
    "pred_val_tta, target_val_tta = evaluations.batch_prediction(model, valid_loader_tta, tta_ensemble=10, device=device)\n",
    "pred_train, target_train = evaluations.batch_prediction(model, train_loader, device=device)"
   ]
  },
  {
   "cell_type": "code",
   "execution_count": null,
   "id": "5db618ea",
   "metadata": {},
   "outputs": [],
   "source": [
    "aggregate = 'expectation'\n",
    "\n",
    "if aggregate == 'max':\n",
    "    pred_val_bin = np.argmax(pred_val, -1)\n",
    "    pred_train_bin = np.argmax(pred_train, -1)\n",
    "    pred_valtta_bin = np.argmax(np.mean(pred_val_tta, 0), -1)\n",
    "elif aggregate == 'expectation':\n",
    "    pred_val_bin = (classp(torch.Tensor(pred_val)) * np.array([0,1,2,3])).sum(-1).numpy()\n",
    "    pred_train_bin = (classp(torch.Tensor(pred_train)) * np.array([0,1,2,3])).sum(-1).numpy()\n",
    "    pred_valtta_bin = (classp(torch.Tensor(np.mean(pred_val_tta, 0))) * np.array([0,1,2,3])).sum(-1).numpy()\n",
    "elif aggregate == 'None':\n",
    "    pred_val_bin = pred_val.squeeze()\n",
    "    pred_train_bin = pred_train.squeeze()\n",
    "    pred_valtta_bin = np.mean(pred_val_tta, 0).squeeze()"
   ]
  },
  {
   "cell_type": "code",
   "execution_count": null,
   "id": "6e7eaf61",
   "metadata": {},
   "outputs": [],
   "source": [
    "if is_global:\n",
    "    mae = np.mean(np.abs(np.round(pred_val_bin)-target_val.squeeze()), 0)\n",
    "    print(f'Global MAE: {mae:0.2f} (vs. 1.83/1.73)')\n",
    "else:\n",
    "    mae = np.mean(np.abs(np.round(pred_val_bin)-target_val.squeeze()), 0)\n",
    "    g_mae = np.mean(np.abs(pred_val_bin.sum(-1)-target_val.sum(-1)), 0)\n",
    "\n",
    "    print(f'Global MAE: {g_mae:0.2f} (vs. 1.83/1.73)')\n",
    "    print(f'Avg. MAE  : {np.mean(mae):0.2f} (vs. 0.47/0.44)\\n')\n",
    "    print(np.round(mae, 2).reshape(2,3).T)"
   ]
  },
  {
   "cell_type": "code",
   "execution_count": null,
   "id": "2599a03f",
   "metadata": {},
   "outputs": [],
   "source": [
    "if is_global:\n",
    "    mae = np.mean(np.abs(np.round(pred_valtta_bin)-target_val.squeeze()), 0)\n",
    "    print(f'Global MAE: {mae:0.2f} (vs. 1.83/1.73)')\n",
    "else:\n",
    "    mae = np.mean(np.abs(np.round(pred_valtta_bin)-target_val.squeeze()), 0)\n",
    "    g_mae = np.mean(np.abs(pred_valtta_bin.sum(-1)-target_val.sum(-1)), 0)\n",
    "\n",
    "    print(f'Global MAE: {g_mae:0.2f} (vs. 1.83/1.73)')\n",
    "    print(f'Avg. MAE  : {np.mean(mae):0.2f} (vs. 0.47/0.44)\\n')\n",
    "    print(np.round(mae, 2).reshape(2,3).T)"
   ]
  },
  {
   "cell_type": "code",
   "execution_count": null,
   "id": "998182df",
   "metadata": {},
   "outputs": [],
   "source": [
    "if is_global:\n",
    "    x = pred_valtta_bin\n",
    "else:\n",
    "    x = pred_valtta_bin.sum(-1)\n",
    "o = sns.displot(x = x, y=target_val.sum(-1), bins=list(np.arange(-.5, 18)))\n",
    "plt.plot([0,18], [0,18], ':', alpha=0.4)\n",
    "_ = plt.xlabel('prediction')\n",
    "_ = plt.ylabel('target')"
   ]
  },
  {
   "cell_type": "code",
   "execution_count": null,
   "id": "83cfa341",
   "metadata": {},
   "outputs": [],
   "source": [
    "if is_global:\n",
    "    g_c = np.corrcoef(pred_val_bin, target_val.squeeze())[1,0]\n",
    "    print(f'Global corr: {g_c:.2f} (vs. 0.85/0.86)')\n",
    "else:\n",
    "\n",
    "    c = []\n",
    "    for i in range(6):\n",
    "        c.append(np.corrcoef(pred_val_bin[:,i], target_val[:,i])[1,0])\n",
    "    g_c = np.corrcoef(pred_val_bin.sum(-1), target_val.sum(-1))[1,0]\n",
    "\n",
    "    print(f'Global corr: {g_c:.2f} (vs. 0.85/0.86)')\n",
    "    print(f'Avg. corr:   {np.mean(c):.2f} (vs. 0.67/0.71) \\n')\n",
    "    print(np.round(c,2).reshape(2,3).T)"
   ]
  },
  {
   "cell_type": "code",
   "execution_count": null,
   "id": "4e164e56",
   "metadata": {},
   "outputs": [],
   "source": [
    "if is_global:\n",
    "    g_c = np.corrcoef(pred_valtta_bin, target_val.squeeze())[1,0]\n",
    "    print(f'Global corr: {g_c:.2f} (vs. 0.85/0.86)')\n",
    "else:\n",
    "    c = []\n",
    "    for i in range(6):\n",
    "        c.append(np.corrcoef(pred_valtta_bin[:,i], target_val_tta[:,i])[1,0])\n",
    "    g_c = np.corrcoef(pred_valtta_bin.sum(-1), target_val_tta.sum(-1))[1,0]\n",
    "\n",
    "    print(f'Global corr: {g_c:.2f} (vs. 0.85/0.86)')\n",
    "    print(f'Avg. corr:   {np.mean(c):.2f} (vs. 0.67/0.71) \\n')\n",
    "    print(np.round(c,2).reshape(2,3).T)"
   ]
  },
  {
   "cell_type": "code",
   "execution_count": null,
   "id": "e962409a",
   "metadata": {},
   "outputs": [],
   "source": [
    "a = val_data.meta_df.groupby('Subject').agg({\n",
    "    'Subject': 'count',\n",
    "    'View': 'nunique',\n",
    "    'Modality': 'nunique',\n",
    "    'Manufacturer': 'nunique'\n",
    "})"
   ]
  },
  {
   "cell_type": "code",
   "execution_count": null,
   "id": "a49e257a",
   "metadata": {},
   "outputs": [],
   "source": [
    "meta = val_data.meta_df.copy()\n",
    "\n",
    "\n",
    "#meta['score'] = pred_val_bin.sum(-1)\n",
    "#meta['target'] = target_val.sum(-1)\n",
    "\n",
    "#meta['score'] = pred_val_bin\n",
    "#meta['target'] = target_val\n",
    "\n",
    "meta['score'] = pred_val_bin[:,5]#.sum(-1)\n",
    "meta['target'] = target_val[:,5] #.sum(-1)\n",
    "\n",
    "meta['error'] = meta.target - meta.score \n",
    "#meta['target2'] = target_val[:,1] \n",
    "#meta['diff'] = meta.target - meta.target2 \n",
    "\n",
    "meta.View = meta.View.fillna('na')\n",
    "meta.loc[meta.AcquisitionDeviceProcessingDescription == 'Thorax pa - HC', 'View'] = 'PA'"
   ]
  },
  {
   "cell_type": "code",
   "execution_count": null,
   "id": "72e3ab31",
   "metadata": {},
   "outputs": [],
   "source": [
    "#meta.groupby(['diff', 'View']).agg({'error':'mean'}).unstack('diff')"
   ]
  },
  {
   "cell_type": "code",
   "execution_count": null,
   "id": "fc947e04",
   "metadata": {},
   "outputs": [],
   "source": [
    "#meta.groupby('Sex').agg({'Sex': 'count', 'score': 'mean', 'target':'mean', 'error':'mean'})"
   ]
  },
  {
   "cell_type": "code",
   "execution_count": null,
   "id": "68d9fe45",
   "metadata": {},
   "outputs": [],
   "source": [
    "#meta.groupby('View').agg({'View': 'count', 'score': 'mean', 'target':'mean', 'error':'mean'})"
   ]
  },
  {
   "cell_type": "code",
   "execution_count": null,
   "id": "96caca80",
   "metadata": {},
   "outputs": [],
   "source": [
    "#k, kv = 'Modality', ['CR', 'DX']\n",
    "k, kv = 'View', ['AP', 'PA'] #, 'na']\n",
    "#k, kv = 'Sex', ['M', 'F']\n",
    "#k, kv = 'ManufacturerModelName', ['Fluorospot Compact FD', 'CR 75'] #, 'DRX-REVOLUTION'],\n",
    "\n",
    "for v in kv:\n",
    "    m = meta[k] == v\n",
    "    sns.regplot(x = meta[m].score, y = meta[m].target, order=1, label=v)\n",
    "#plt.ylim(-1,19)\n",
    "#plt.xlim(-1,19)\n",
    "#plt.plot([0,18],[0,18], 'k:')\n",
    "plt.legend()\n",
    "plt.grid()"
   ]
  },
  {
   "cell_type": "markdown",
   "id": "727ca82f",
   "metadata": {},
   "source": [
    "### Paying Attention"
   ]
  },
  {
   "cell_type": "code",
   "execution_count": null,
   "id": "fb6d53e6",
   "metadata": {},
   "outputs": [],
   "source": [
    "visualisation = {}\n",
    "\n",
    "def hook_fn(m, i, o):\n",
    "    visualisation[m._get_name()] = o \n",
    "\n",
    "model.global_pool.softmax.register_forward_hook(hook_fn)\n",
    "model.global_pool.register_forward_hook(hook_fn)"
   ]
  },
  {
   "cell_type": "code",
   "execution_count": null,
   "id": "9051a2ca",
   "metadata": {},
   "outputs": [],
   "source": [
    "d = next(iter(valid_loader))\n",
    "#d = next(iter(train_loader))"
   ]
  },
  {
   "cell_type": "code",
   "execution_count": null,
   "id": "b2ff747c",
   "metadata": {},
   "outputs": [],
   "source": [
    "with torch.no_grad():\n",
    "    logits = model(d[0].to(device))"
   ]
  },
  {
   "cell_type": "code",
   "execution_count": null,
   "id": "5dc411bc",
   "metadata": {},
   "outputs": [],
   "source": [
    "att = visualisation['Softmax'].view(-1,6,12,12)\n",
    "#b = visualisation['RegionalAttentionHead']"
   ]
  },
  {
   "cell_type": "code",
   "execution_count": null,
   "id": "98c98711",
   "metadata": {},
   "outputs": [],
   "source": [
    "for j in range(15):\n",
    "\n",
    "    plt.figure()\n",
    "    plt.imshow(d[0][j,0], cmap='bone')\n",
    "    plt.title(d[1][j])\n",
    "\n",
    "    plt.figure(figsize=(20,5))\n",
    "    for i in range(6):\n",
    "        plt.subplot(1,6,i+1)\n",
    "        plt.imshow(torch.nn.functional.interpolate(d[0], size=12)[j,0], cmap='gray', alpha=0.7)\n",
    "        attention = att[j,i].detach().cpu().numpy()\n",
    "        attention[attention<0.001] = np.nan\n",
    "        plt.imshow(attention, vmin=0, vmax=1, alpha=0.9, cmap=plt.cm.spring_r)\n",
    "        pred = classp(logits[j,i]).detach().cpu().numpy()\n",
    "        plt.title([f'{i:.2f}' for i in pred])"
   ]
  },
  {
   "cell_type": "code",
   "execution_count": null,
   "id": "45d7eb24",
   "metadata": {},
   "outputs": [],
   "source": []
  },
  {
   "cell_type": "code",
   "execution_count": null,
   "id": "d61b2895",
   "metadata": {},
   "outputs": [],
   "source": []
  }
 ],
 "metadata": {
  "jupytext": {
   "formats": "ipynb,py"
  },
  "kernelspec": {
   "display_name": "base",
   "language": "python",
   "name": "base"
  }
 },
 "nbformat": 4,
 "nbformat_minor": 5
}
