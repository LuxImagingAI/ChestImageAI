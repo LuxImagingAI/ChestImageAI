{
 "cells": [
  {
   "cell_type": "code",
   "execution_count": null,
   "id": "89ca9373",
   "metadata": {},
   "outputs": [],
   "source": [
    "import papermill as pm\n",
    "import torch\n",
    "import multiprocessing as mp\n",
    "import nest_asyncio\n",
    "nest_asyncio.apply()\n",
    "\n",
    "import pwd, os, glob, shutil\n",
    "import time\n",
    "import collections\n",
    "\n",
    "import numpy as np"
   ]
  },
  {
   "cell_type": "code",
   "execution_count": null,
   "id": "b9314af4",
   "metadata": {},
   "outputs": [],
   "source": [
    "folder = glob.glob('/home/users/jsoelter/models/rsna/bitm/new_exp/*_it?')"
   ]
  },
  {
   "cell_type": "code",
   "execution_count": null,
   "id": "4f831f6e",
   "metadata": {},
   "outputs": [],
   "source": [
    "to_eval = []\n",
    "last = []\n",
    "\n",
    "for f in folder:\n",
    "    cp = glob.glob(os.path.join(f, '*.pt'))\n",
    "    if len(cp) == 0:\n",
    "        print(f'Warning: {f}')\n",
    "        #shutil.rmtree(f)\n",
    "        continue\n",
    "    cp = np.sort(cp)\n",
    "    last_cp = cp[-1]\n",
    "    previous_cp = cp[:-1]\n",
    "    for old in previous_cp:\n",
    "        print('remove', old)\n",
    "        #os.remove(old)\n",
    "    #print('keep', last_cp)\n",
    "    \n",
    "    last.append(int(last_cp.split('step')[1].split('.')[0]))\n",
    "    to_eval.append(last_cp)"
   ]
  },
  {
   "cell_type": "code",
   "execution_count": null,
   "id": "8dc8766e",
   "metadata": {},
   "outputs": [],
   "source": [
    "to_eval"
   ]
  },
  {
   "cell_type": "code",
   "execution_count": null,
   "id": "644f0032",
   "metadata": {},
   "outputs": [],
   "source": [
    "eval_notebook = './RSNApneunomia_eval.ipynb'"
   ]
  },
  {
   "cell_type": "code",
   "execution_count": null,
   "id": "19f2ad8e",
   "metadata": {},
   "outputs": [],
   "source": [
    "#available_gpu = torch.cuda.device_count()\n",
    "available_gpu = [0]#range(4)\n",
    "processes = {k: None for k in available_gpu}"
   ]
  },
  {
   "cell_type": "code",
   "execution_count": null,
   "id": "9a35d3cc",
   "metadata": {},
   "outputs": [],
   "source": [
    "for cp in to_eval:\n",
    "    \n",
    "    #gpu_id = fold%available_gpu\n",
    "    proc_started = False\n",
    "    param = {\n",
    "        'model_checkpoint': cp\n",
    "    }\n",
    "    output_path = os.path.dirname(cp)\n",
    "    output_file = os.path.join(output_path, 'evalbook.ipynb')\n",
    "    if os.path.exists(output_file):\n",
    "        print(f'skipped {output_path}')\n",
    "        continue\n",
    "        \n",
    "    while not(proc_started):\n",
    "        for k, v in processes.items():\n",
    "            if not(v) or not(v.is_alive()):\n",
    "                if v: v.close()\n",
    "                param['device'] = f'cuda:{k}'\n",
    "                print(f\"\\n Start {param['model_checkpoint']} on {param['device']}\")\n",
    "                p = mp.Process(target = pm.execute_notebook, args = (eval_notebook, output_file, param))\n",
    "                p.start()\n",
    "                processes[k] = p\n",
    "                proc_started = True\n",
    "                break\n",
    "        if not(proc_started):\n",
    "            print('*', end='')\n",
    "            time.sleep(60)"
   ]
  },
  {
   "cell_type": "code",
   "execution_count": null,
   "id": "4d9d2835",
   "metadata": {},
   "outputs": [],
   "source": [
    "v"
   ]
  },
  {
   "cell_type": "code",
   "execution_count": null,
   "id": "d010504b",
   "metadata": {},
   "outputs": [],
   "source": []
  },
  {
   "cell_type": "code",
   "execution_count": null,
   "id": "eeb5d4e1",
   "metadata": {},
   "outputs": [],
   "source": [
    "not(v.is_alive())"
   ]
  },
  {
   "cell_type": "code",
   "execution_count": null,
   "id": "4f3f54ab",
   "metadata": {},
   "outputs": [],
   "source": []
  }
 ],
 "metadata": {
  "jupytext": {
   "formats": "ipynb,py"
  },
  "kernelspec": {
   "display_name": "base",
   "language": "python",
   "name": "base"
  }
 },
 "nbformat": 4,
 "nbformat_minor": 5
}
