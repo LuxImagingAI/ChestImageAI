{
 "cells": [
  {
   "cell_type": "code",
   "execution_count": null,
   "id": "d425c18f",
   "metadata": {},
   "outputs": [],
   "source": [
    "import glob, os, json\n",
    "import numpy\n",
    "import matplotlib.pyplot as plt\n",
    "\n",
    "import pandas as pd\n",
    "import numpy as np"
   ]
  },
  {
   "cell_type": "markdown",
   "id": "f6e7b9f8",
   "metadata": {},
   "source": [
    "## Gather Data\n",
    "Collect data produced by the `RSNApneunomia_eval` Notebook."
   ]
  },
  {
   "cell_type": "code",
   "execution_count": null,
   "id": "f1ea5147",
   "metadata": {},
   "outputs": [],
   "source": [
    "result_files = glob.glob('/home/users/jsoelter/models/rsna/bitm/new_exp/*/*.csv')"
   ]
  },
  {
   "cell_type": "code",
   "execution_count": null,
   "id": "9b611a72",
   "metadata": {},
   "outputs": [],
   "source": [
    "results = []\n",
    "for f in result_files:\n",
    "    \n",
    "    dat = pd.read_csv(f)\n",
    "    ledger = json.load(open(os.path.join(os.path.dirname(f), 'train_ledger.json')))\n",
    "    dat['model'] = ledger['train_setup']['0']['setup']['model_dict']['architecture']\n",
    "    dat['salt'] = ledger['train_setup']['0']['setup']['data_setup']['data']['val_conf']['salt']\n",
    "    results.append(dat)\n",
    "    \n",
    "results = pd.concat(results)\n",
    "results = results.rename(columns={'name': 'dataset'})\n",
    "results = results.drop(columns=['Unnamed: 0'])\n",
    "\n",
    "results.head(2)"
   ]
  },
  {
   "cell_type": "markdown",
   "id": "7a7c1aed",
   "metadata": {},
   "source": [
    "Results contain:\n",
    "  - `dataset` evaluation dataset (val1 internal, val2 external)\n",
    "  - `tta` test time augmentation id\n",
    "  - `auc` area under the curve (for `_m`: male, `_f`: female)\n",
    "  - `bce` binary cross entropy (for `_m`: male, `_f`: female)\n",
    "  - `max_samples` number of training samples\n",
    "  - `frac_meta0` fraction of male training samples\n",
    "  - `frac_meta0_tar1` fraction of target samples in male population \n",
    "  - `frac_meta1_tar1` fraction of target samples in female population\n",
    "  - `model` name of trained model"
   ]
  },
  {
   "cell_type": "markdown",
   "id": "fa0882cb",
   "metadata": {},
   "source": [
    "Add `frac_tar1`, the overal fraction of target values in the full population"
   ]
  },
  {
   "cell_type": "code",
   "execution_count": null,
   "id": "620c88e7",
   "metadata": {},
   "outputs": [],
   "source": [
    "results['frac_tar1'] = np.round(results.frac_meta0 * results.frac_meta0_tar1 + (1-results.frac_meta0 )* results.frac_meta1_tar1, 1)"
   ]
  },
  {
   "cell_type": "markdown",
   "id": "652502b0",
   "metadata": {},
   "source": [
    "Get average auc across experiments"
   ]
  },
  {
   "cell_type": "code",
   "execution_count": null,
   "id": "0f5ee6dc",
   "metadata": {},
   "outputs": [],
   "source": [
    "aggregation = 'mean'\n",
    "salt_values = ['0', '1', '2']\n",
    "\n",
    "ix = ['dataset', 'frac_meta0', 'max_samples', 'model', 'frac_tar1', 'frac_meta0_tar1', 'frac_meta1_tar1']\n",
    "auc = results[results.salt.isin(salt_values)].groupby(ix)[['auc', 'auc_m', 'auc_f']].agg([aggregation, 'std', 'count'])\n",
    "bce = results[results.salt.isin(salt_values)].groupby(ix)[['bce', 'bce_m', 'bce_f']].agg([aggregation, 'std', 'count'])"
   ]
  },
  {
   "cell_type": "code",
   "execution_count": null,
   "id": "25cadc05",
   "metadata": {
    "lines_to_next_cell": 2
   },
   "outputs": [],
   "source": [
    "# experiments with same target fraction in both populations\n",
    "mask_equal_frac = auc.index.get_level_values('frac_meta0_tar1') == auc.index.get_level_values('frac_meta1_tar1')"
   ]
  },
  {
   "cell_type": "code",
   "execution_count": null,
   "id": "3fbee142",
   "metadata": {},
   "outputs": [],
   "source": [
    "what = 'auc_f'\n",
    "model = 'BiT-M-R50x3'\n",
    "\n",
    "tmp = results.set_index(ix).loc[('val2', 0, 7500, model, 0.3, 0.3)].sort_values(by='salt')\n",
    "plt.scatter([0]*3, tmp[what].iloc[:3])\n",
    "\n",
    "tmp = results.set_index(ix).loc[('val2', 0.5, 7500, model, 0.3, 0.3)].sort_values(by='salt')\n",
    "plt.scatter([1]*3, tmp[what], alpha=0.5)\n",
    "\n",
    "tmp = results.set_index(ix).loc[('val2', 0.5, 15000, model, 0.3, 0.3)].sort_values(by='salt')\n",
    "plt.scatter([2]*3, tmp[what],  alpha=0.5)\n",
    "\n",
    "plt.legend(loc='upper right', bbox_to_anchor=(1.6,1))\n",
    "_ = plt.xticks([0,1,2], ['7.5k 100% female', '7.5k 50% female, 50% male', '15k  50% female, 50% male'], rotation=45, ha='right')\n",
    "plt.grid()\n",
    "plt.ylabel('AUC')"
   ]
  },
  {
   "cell_type": "code",
   "execution_count": null,
   "id": "1beb7870",
   "metadata": {
    "lines_to_next_cell": 0
   },
   "outputs": [],
   "source": [
    "model = 'BiT-M-R50x3'\n",
    "what = ['auc', 'auc_m', 'auc_f']\n",
    "#what = ['bce', 'bce_m', 'bce_f']\n",
    "df = auc\n",
    "\n",
    "plt.figure(figsize=(20, 12))\n",
    "\n",
    "d = df[mask_equal_frac].loc[('val2', 0, 7500, model)]\n",
    "for ix, c in enumerate(what):\n",
    "    plt.subplot(3,2, 2*(ix+1))\n",
    "    dd = d[c]\n",
    "    _ = plt.errorbar(\n",
    "        x = dd.index.get_level_values('frac_tar1'),\n",
    "        y = dd[aggregation].values, \n",
    "        yerr = dd['std'].values, \n",
    "        #'o:',\n",
    "        ls = '-',\n",
    "        mfc='none', \n",
    "        label='7.5k female',\n",
    "        alpha=0.5\n",
    "    )\n",
    "#plt.gca().set_prop_cycle(None)\n",
    "\n",
    "\n",
    "d = df[mask_equal_frac].loc[('val2', 0.5, 7500, model)]\n",
    "for ix, c in enumerate(what):\n",
    "    plt.subplot(3,2, 2*(ix+1))\n",
    "    dd = d[c]\n",
    "    _ = plt.errorbar(\n",
    "        x = dd.index.get_level_values('frac_tar1'),\n",
    "        y = dd[aggregation].values, \n",
    "        yerr = dd['std'].values, \n",
    "        #'o:',\n",
    "        ls = '-',\n",
    "        mfc='none', \n",
    "        label='7.5k male + female',\n",
    "        alpha=0.5\n",
    "    )\n",
    "    \n",
    "d = df[mask_equal_frac].loc[('val2', 0.5, 15000, model)]\n",
    "for ix, c in enumerate(what):\n",
    "    plt.subplot(3,2, 2*(ix+1))\n",
    "    dd = d[c]\n",
    "    _ = plt.errorbar(\n",
    "        x = dd.index.get_level_values('frac_tar1'),\n",
    "        y = dd[aggregation].values, \n",
    "        yerr = dd['std'].values, \n",
    "        ls = '-',\n",
    "        mfc='none', \n",
    "        label='15k male + female',\n",
    "        alpha=0.5\n",
    "    )    \n",
    "    \n",
    "    plt.legend()\n",
    "    plt.ylim([0.85, 0.95])\n",
    "    plt.yticks([0.85,0.9,0.95])\n",
    "    plt.grid()\n",
    "    plt.title(c)"
   ]
  },
  {
   "cell_type": "code",
   "execution_count": null,
   "id": "290f0cbc",
   "metadata": {
    "lines_to_next_cell": 0
   },
   "outputs": [],
   "source": [
    "model2 = 'BiTX-M-R50x3'\n",
    "#c = 'auc'\n",
    "plt.figure(figsize=(20,5))\n",
    "for i, c in enumerate(['auc', 'auc_m', 'auc_f']):\n",
    "    plt.subplot(1,3,i+1)\n",
    "    d = auc.loc[('val1', 0.5, 15000, model, 0.3)]\n",
    "    _ = plt.errorbar(\n",
    "        x = d.index.get_level_values('frac_meta0_tar1'), \n",
    "        y = d[(c, 'mean')].values, \n",
    "        yerr = d[(c, 'std')].values,\n",
    "        label = 'confounded test data'\n",
    "    )\n",
    "    \n",
    "    d = auc.loc[('val2', 0.5, 15000, model, 0.3)]\n",
    "    _ = plt.errorbar(\n",
    "        x = d.index.get_level_values('frac_meta0_tar1'), \n",
    "        y = d[(c, 'mean')].values, \n",
    "        yerr = d[(c, 'std')].values,\n",
    "        label = 'external balanced test data'\n",
    "    )\n",
    "    \n",
    "    only_female_model_score = auc.loc[('val2', 0, 7500, 'BiT-M-R50x3', 0.3), (c, aggregation)]\n",
    "    plt.hlines(only_female_model_score, 0., 0.6, 'k', ls=':')\n",
    "    \n",
    "    # balanced_model_score1 = auc.loc[('val2', 0.5, 7500, 'BiT-M-R50x3', 0.3), (c, aggregation)]\n",
    "    # balanced_model_score2 = auc.loc[('val2', 0.5, 15000, 'BiT-M-R50x3', 0.3, 0.3), (c, aggregation)]\n",
    "    # plt.hlines(balanced_model_score1, 0., 0.6, 'c', ls='--', alpha=0.5)\n",
    "    # plt.hlines(balanced_model_score2, 0., 0.6, 'm', ls='--', alpha=0.5)\n",
    "\n",
    "    \n",
    "    plt.title(['All', 'Subset Male', 'Subset Female'][i])\n",
    "    plt.legend()\n",
    "    plt.grid()\n",
    "    plt.ylim([0.75, 0.97])\n",
    "    plt.ylabel('AUC')\n",
    "    plt.xlabel('Disease-Fraction Male')"
   ]
  },
  {
   "cell_type": "code",
   "execution_count": null,
   "id": "cb5d12af",
   "metadata": {
    "lines_to_next_cell": 0
   },
   "outputs": [],
   "source": [
    "model2 = 'BiTX-M-R50x3'\n",
    "#c = 'auc'\n",
    "plt.figure(figsize=(20,5))\n",
    "for i, c in enumerate(['auc', 'auc_m', 'auc_f']):\n",
    "    plt.subplot(1,3,i+1)\n",
    "    d = auc.loc[('val1', 0.5, 15000, model, 0.3)]\n",
    "    _ = plt.errorbar(\n",
    "        x = d.index.get_level_values('frac_meta0_tar1'), \n",
    "        y = d[(c, 'mean')].values, \n",
    "        yerr = d[(c, 'std')].values,\n",
    "        label = 'confounded test data'\n",
    "    )\n",
    "    \n",
    "    d = auc.loc[('val2', 0.5, 15000, model, 0.3)]\n",
    "    _ = plt.errorbar(\n",
    "        x = d.index.get_level_values('frac_meta0_tar1'), \n",
    "        y = d[(c, 'mean')].values, \n",
    "        yerr = d[(c, 'std')].values,\n",
    "        label = 'external balanced test data'\n",
    "    )\n",
    "    plt.gca().set_prop_cycle(None)   \n",
    "\n",
    "#c = 'auc'\n",
    "for i, c in enumerate(['auc', 'auc_m', 'auc_f']):\n",
    "    plt.subplot(1,3,i+1)\n",
    "    d = auc.loc[('val1', 0.5, 15000, model2, 0.3)]\n",
    "    _ = plt.errorbar(\n",
    "        x = d.index.get_level_values('frac_meta0_tar1'), \n",
    "        y = d[(c, 'mean')].values, \n",
    "        yerr = d[(c, 'std')].values,\n",
    "        label = 'meta injection',\n",
    "        ls = ':',\n",
    "    )\n",
    "    \n",
    "    d = auc.loc[('val2', 0.5, 15000, model2, 0.3)]\n",
    "    _ = plt.errorbar(\n",
    "        x = d.index.get_level_values('frac_meta0_tar1'), \n",
    "        y = d[(c, 'mean')].values, \n",
    "        yerr = d[(c, 'std')].values,\n",
    "        label = 'meta injection',\n",
    "        ls = ':',\n",
    "    )\n",
    "    plt.title(['All', 'Subset Male', 'Subset Female'][i])\n",
    "    plt.legend(loc = 'lower left')\n",
    "    plt.grid()\n",
    "    plt.ylim([0.75, 0.97])\n",
    "    plt.ylabel('AUC')\n",
    "    plt.xlabel('Disease-Fraction Male')"
   ]
  },
  {
   "cell_type": "code",
   "execution_count": null,
   "id": "1f4d95eb",
   "metadata": {
    "lines_to_next_cell": 2
   },
   "outputs": [],
   "source": []
  }
 ],
 "metadata": {
  "jupytext": {
   "formats": "ipynb,py"
  },
  "kernelspec": {
   "display_name": "Python 3",
   "language": "python",
   "name": "python3"
  }
 },
 "nbformat": 4,
 "nbformat_minor": 5
}
