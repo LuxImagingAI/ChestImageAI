{
 "cells": [
  {
   "cell_type": "code",
   "execution_count": null,
   "id": "5b78d835",
   "metadata": {},
   "outputs": [],
   "source": [
    "import papermill as pm\n",
    "import torch\n",
    "import multiprocessing as mp\n",
    "import nest_asyncio\n",
    "nest_asyncio.apply()\n",
    "\n",
    "import pwd, os\n",
    "import time\n",
    "import collections"
   ]
  },
  {
   "cell_type": "code",
   "execution_count": null,
   "id": "1bbc5c64",
   "metadata": {},
   "outputs": [],
   "source": [
    "#available_gpu = torch.cuda.device_count()\n",
    "available_gpu = range(1,4)\n",
    "processes = {k: None for k in available_gpu}"
   ]
  },
  {
   "cell_type": "code",
   "execution_count": null,
   "id": "5feccaf2",
   "metadata": {},
   "outputs": [],
   "source": [
    "Experiment = collections.namedtuple('Experiment', ['frac_meta0', 'frac_meta0_tar1', 'frac_meta1_tar1', 'max_samples', 'name', 'fold'])"
   ]
  },
  {
   "cell_type": "code",
   "execution_count": null,
   "id": "9bdcdf1e",
   "metadata": {},
   "outputs": [],
   "source": [
    "name_extra = ''#'_mf'\n",
    "experiments = []\n",
    "\n",
    "for fold in range(0,5):\n",
    "    \n",
    "    if True:\n",
    "        for frac_meta1_tar1 in [0.1, 0.2, 0.3, 0.4, 0.5]:\n",
    "            experiments.append(Experiment(\n",
    "                frac_meta0=0, \n",
    "                frac_meta0_tar1=frac_meta1_tar1, \n",
    "                frac_meta1_tar1=frac_meta1_tar1, \n",
    "                max_samples=7500,\n",
    "                name = f'pure_7500_None_{int(frac_meta1_tar1*10):d}_it{fold:d}'+name_extra,\n",
    "                fold = fold\n",
    "            ))\n",
    "\n",
    "        for frac_meta1_tar1 in [0.1, 0.2, 0.3, 0.4, 0.5, 0.6, 0.7, 0.8, 0.9]:\n",
    "            experiments.append(Experiment(\n",
    "                frac_meta0=0.5, \n",
    "                frac_meta0_tar1=frac_meta1_tar1, \n",
    "                frac_meta1_tar1=frac_meta1_tar1, \n",
    "                max_samples=7500,\n",
    "                name = f'mixed_7500_{int(frac_meta1_tar1*10):d}_{int(frac_meta1_tar1*10):d}_it{fold:d}'+name_extra,\n",
    "                fold = fold\n",
    "            ))\n",
    "\n",
    "    for frac_meta1_tar1 in [0.1, 0.2, 0.3, 0.4, 0.5]:\n",
    "        experiments.append(Experiment(\n",
    "            frac_meta0=0.5, \n",
    "            frac_meta0_tar1=frac_meta1_tar1, \n",
    "            frac_meta1_tar1=frac_meta1_tar1, \n",
    "            max_samples=15000,\n",
    "            name = f'mixed_15000_{int(round(frac_meta1_tar1*10)):d}_{int(round(frac_meta1_tar1*10)):d}_it{fold:d}'+name_extra,\n",
    "            fold = fold\n",
    "        ))\n",
    "\n",
    "    for frac_meta1_tar1 in [0., 0.1, 0.2, 0.3, 0.4]:\n",
    "        experiments.append(Experiment(\n",
    "            frac_meta0=0.5, \n",
    "            frac_meta0_tar1=0.4-frac_meta1_tar1, \n",
    "            frac_meta1_tar1=frac_meta1_tar1, \n",
    "            max_samples=15000,\n",
    "            name = f'mixed_15000_{int(round((0.4-frac_meta1_tar1)*10)):d}_{int(round(frac_meta1_tar1*10)):d}_it{fold:d}'+name_extra,\n",
    "            fold = fold \n",
    "        ))\n",
    "\n",
    "    for frac_meta1_tar1 in [0, 0.1, 0.2, 0.3, 0.4, 0.5, 0.6]:\n",
    "        experiments.append(Experiment(\n",
    "            frac_meta0=0.5, \n",
    "            frac_meta0_tar1=0.6-frac_meta1_tar1, \n",
    "            frac_meta1_tar1=frac_meta1_tar1, \n",
    "            max_samples=15000,\n",
    "            name = f'mixed_15000_{int(round((0.6-frac_meta1_tar1)*10)):d}_{int(round(frac_meta1_tar1*10)):d}_it{fold:d}'+name_extra,\n",
    "            fold = fold\n",
    "        ))"
   ]
  },
  {
   "cell_type": "code",
   "execution_count": null,
   "id": "e4e91ed5",
   "metadata": {},
   "outputs": [],
   "source": [
    "train_notebook = './RSNApneunomia_train.ipynb'"
   ]
  },
  {
   "cell_type": "code",
   "execution_count": null,
   "id": "667b4943",
   "metadata": {},
   "outputs": [],
   "source": [
    "out_folder = '/home/users/jsoelter/models/rsna/bitm/new_exp/'"
   ]
  },
  {
   "cell_type": "code",
   "execution_count": null,
   "id": "a5338a4f",
   "metadata": {},
   "outputs": [],
   "source": [
    "for experiment in experiments:\n",
    "    \n",
    "    #gpu_id = fold%available_gpu\n",
    "    proc_started = False\n",
    "    param = {\n",
    "    'overwrites': {\n",
    "        'sampling_config': {\n",
    "                'frac_meta0': experiment.frac_meta0,\n",
    "                'frac_meta0_tar1': experiment.frac_meta0_tar1,\n",
    "                'frac_meta1_tar1': experiment.frac_meta1_tar1,\n",
    "                'max_samples': experiment.max_samples\n",
    "        },\n",
    "        'computation': {\n",
    "            'model_out': os.path.join(out_folder, experiment.name),\n",
    "            'device': None\n",
    "        },\n",
    "        'data_setup': {\n",
    "            'data': {\n",
    "                #'include_meta_features': ['Sex'],\n",
    "                'val_conf': {\n",
    "                    'salt': str(experiment.fold),\n",
    "                    'fraction': 0.05\n",
    "        }}},\n",
    "        #'model_dict':  dict(\n",
    "        #    architecture = 'BiTX-M-R50x3',\n",
    "        #    num_meta = 1\n",
    "        #)\n",
    "    }}\n",
    "    output_path = param['overwrites']['computation']['model_out']\n",
    "    output_file = os.path.join(output_path, 'runbook.ipynb')\n",
    "    if os.path.exists(output_path): \n",
    "        print(f'skip {output_path}')\n",
    "        continue\n",
    "    else:\n",
    "        os.makedirs(output_path)\n",
    "    \n",
    "    while not(proc_started):\n",
    "        for k, v in processes.items():\n",
    "            if not(v) or not(v.is_alive()):\n",
    "                if v: v.close()\n",
    "                param['overwrites']['computation']['device'] = f'cuda:{k}'\n",
    "                print(f\"\\n Start {param['overwrites']['computation']['model_out']} on {param['overwrites']['computation']['device']}\")\n",
    "                p = mp.Process(target = pm.execute_notebook, args = (train_notebook, output_file, param))\n",
    "                p.start()\n",
    "                processes[k] = p\n",
    "                proc_started = True\n",
    "                break\n",
    "        if not(proc_started):\n",
    "            print('*', end='')\n",
    "            time.sleep(5*60)"
   ]
  },
  {
   "cell_type": "code",
   "execution_count": null,
   "id": "9ac1cc9a",
   "metadata": {},
   "outputs": [],
   "source": [
    "import glob\n",
    "import shutil\n",
    "\n",
    "folder = [i.split('/')[-1] for i in glob.glob(out_folder + '*')]\n",
    "wt_ledger = [i.split('/')[-2] for i in glob.glob(out_folder + '*/*.json')]"
   ]
  },
  {
   "cell_type": "code",
   "execution_count": null,
   "id": "777edeb0",
   "metadata": {},
   "outputs": [],
   "source": [
    "incomplete = set(folder).difference(wt_ledger)\n",
    "incomplete"
   ]
  },
  {
   "cell_type": "code",
   "execution_count": null,
   "id": "5ea60262",
   "metadata": {},
   "outputs": [],
   "source": [
    "for f in incomplete:\n",
    "    shutil.rmtree(os.path.join(out_folder, f))"
   ]
  },
  {
   "cell_type": "code",
   "execution_count": null,
   "id": "7371dfae",
   "metadata": {},
   "outputs": [],
   "source": []
  },
  {
   "cell_type": "code",
   "execution_count": null,
   "id": "e630cfa0",
   "metadata": {},
   "outputs": [],
   "source": []
  }
 ],
 "metadata": {
  "jupytext": {
   "formats": "ipynb,py"
  },
  "kernelspec": {
   "display_name": "base",
   "language": "python",
   "name": "base"
  }
 },
 "nbformat": 4,
 "nbformat_minor": 5
}
