{
 "cells": [
  {
   "cell_type": "code",
   "execution_count": null,
   "id": "c7f4821d",
   "metadata": {},
   "outputs": [],
   "source": [
    "import os, glob, json\n",
    "import pandas as pd\n",
    "import numpy as np\n",
    "import seaborn as sns\n",
    "import matplotlib.pyplot as plt\n",
    "import matplotlib\n",
    "import collections\n",
    "#import cv2\n",
    "import tqdm\n",
    "#from PIL import Image\n",
    "import torch\n",
    "#import torchvision.models\n",
    "\n",
    "import sklearn\n",
    "import sklearn.metrics\n",
    "from scipy.special import expit\n",
    "\n",
    "import scipy.special\n",
    "import sklearn.metrics as skm"
   ]
  },
  {
   "cell_type": "code",
   "execution_count": null,
   "id": "0dc10e86",
   "metadata": {},
   "outputs": [],
   "source": [
    "import sys\n",
    "sys.path.append('/home/users/jsoelter/Code/ChestImageAI/utils/')\n",
    "sys.path.append('/home/users/jsoelter/Code/big_transfer/')\n",
    "\n",
    "import data_loader, evaluations, model_setup, sacred"
   ]
  },
  {
   "cell_type": "markdown",
   "id": "3192a44c",
   "metadata": {},
   "source": [
    "### Model Setup"
   ]
  },
  {
   "cell_type": "code",
   "execution_count": null,
   "id": "20c0334c",
   "metadata": {
    "tags": [
     "parameters"
    ]
   },
   "outputs": [],
   "source": [
    "model_checkpoint = '/home/users/jsoelter/models/rsna/bitm/new_exp/mixed_15000_1_5_it1/step0046'\n",
    "#model_checkpoint = '/home/users/jsoelter/models/rsna/bitm/new_exp/test2/step00464.pt'\n",
    "\n",
    "device = torch.device(\"cuda:0\" if torch.cuda.is_available() else \"cpu\")"
   ]
  },
  {
   "cell_type": "code",
   "execution_count": null,
   "id": "e9642d15",
   "metadata": {},
   "outputs": [],
   "source": [
    "dirname = os.path.dirname(model_checkpoint)\n",
    "ledger = json.load(open(os.path.join(dirname, 'train_ledger.json')))\n",
    "\n",
    "model_dict = ledger['train_setup']['0']['setup']['model_dict'].copy()\n",
    "model_dict['pretrained'] = model_checkpoint\n",
    "model_dict['fresh_head_weights'] = False"
   ]
  },
  {
   "cell_type": "code",
   "execution_count": null,
   "id": "bd35be73",
   "metadata": {},
   "outputs": [],
   "source": [
    "model = model_setup.instantiate_model(**model_dict)\n",
    "model = model.to(device)"
   ]
  },
  {
   "cell_type": "code",
   "execution_count": null,
   "id": "ff3208a6",
   "metadata": {},
   "outputs": [],
   "source": [
    "fig = plt.figure(figsize=(20,8)) \n",
    "gs = matplotlib.gridspec.GridSpec(3,1,height_ratios=(1,4,4), hspace=0)\n",
    "\n",
    "ax = plt.subplot(gs[0])\n",
    "plt.plot(ledger['lr'], 'k')\n",
    "plt.xticks([])\n",
    "plt.ylabel('lr')\n",
    "plt.yscale('log')\n",
    "#plt.xlim([0, 10000])\n",
    "\n",
    "ax = plt.subplot(gs[1])\n",
    "plt.plot(ledger['train_loss'], alpha=0.1) #, np.hstack([np.zeros(99), np.ones(100)/100]), mode = 'same'))\n",
    "plt.plot(np.convolve(ledger['train_loss'], np.hstack([np.zeros(9), np.ones(10)/10]), mode = 'same'), color='b', label='train')\n",
    "plt.plot(*np.array(ledger['internal']).T, '-', label='val')\n",
    "#plt.yscale('log')\n",
    "plt.legend()\n",
    "plt.grid()\n",
    "#plt.yscale('log')\n",
    "plt.ylabel('cross entropy')\n",
    "#plt.xticks([])\n",
    "plt.ylim([0.1,0.8])"
   ]
  },
  {
   "cell_type": "markdown",
   "id": "448bb041",
   "metadata": {},
   "source": [
    "### Data Setup"
   ]
  },
  {
   "cell_type": "code",
   "execution_count": null,
   "id": "ef8ffd40",
   "metadata": {},
   "outputs": [],
   "source": [
    "transforms = ledger['train_setup']['0']['setup']['data_setup']['transforms']\n",
    "data_setup = ledger['train_setup']['0']['setup']['data_setup']['data']\n",
    "sampling_config = ledger['train_setup']['0']['setup']['sampling_config']"
   ]
  },
  {
   "cell_type": "code",
   "execution_count": null,
   "id": "fd4f9564",
   "metadata": {},
   "outputs": [],
   "source": [
    "sampling_config2 = {\n",
    "    'meta_field': 'Sex',\n",
    "    'meta_values': ['M', 'F'],\n",
    "    'frac_meta0': 0.5,\n",
    "    'frac_meta0_tar1': 0.3,\n",
    "    'frac_meta1_tar1': 0.3,\n",
    "}"
   ]
  },
  {
   "cell_type": "code",
   "execution_count": null,
   "id": "068e67f0",
   "metadata": {},
   "outputs": [],
   "source": [
    "preprocess = data_loader.transform_pipeline_from_dict(transforms)\n",
    "\n",
    "train_data = data_loader.RSNAPneumoniaData(transform=preprocess, sub_sampling=sampling_config, validation=False,  \n",
    "    datapath = '/work/projects/covid19_dv/raw_data/rsna_pneunomia/',                                       \n",
    "     **data_setup)\n",
    "\n",
    "valid_data = data_loader.RSNAPneumoniaData(transform=preprocess, sub_sampling=sampling_config, validation=True,\n",
    "        datapath = '/work/projects/covid19_dv/raw_data/rsna_pneunomia/', **data_setup                                      \n",
    ")\n",
    "\n",
    "valid_data2 = data_loader.RSNAPneumoniaData(transform=preprocess, sub_sampling=sampling_config2, validation=True,\n",
    "        datapath = '/work/projects/covid19_dv/raw_data/rsna_pneunomia/', **data_setup                                      \n",
    ")"
   ]
  },
  {
   "cell_type": "code",
   "execution_count": null,
   "id": "7e7a0f56",
   "metadata": {},
   "outputs": [],
   "source": [
    "computational_setup = dict(\n",
    "    num_workers = 8,\n",
    "    batch_size = 16\n",
    ")\n",
    "train_loader = torch.utils.data.DataLoader(train_data, **computational_setup)\n",
    "valid_loader = torch.utils.data.DataLoader(valid_data, **computational_setup)\n",
    "valid_loader2 = torch.utils.data.DataLoader(valid_data2, **computational_setup)"
   ]
  },
  {
   "cell_type": "markdown",
   "id": "a4bcfeb1",
   "metadata": {},
   "source": [
    "## Benchmark"
   ]
  },
  {
   "cell_type": "code",
   "execution_count": null,
   "id": "ff5764e4",
   "metadata": {},
   "outputs": [],
   "source": [
    "def batch_prediction(model, loader, max_batch=-1, tta_ensemble = 1, device=None, overwrite=None):\n",
    "    \n",
    "    model.eval()\n",
    "    device = device or torch.device(\"cuda:0\" if torch.cuda.is_available() else \"cpu\")\n",
    "    ensemble, targets = [], []\n",
    "    for i in range(tta_ensemble):\n",
    "        preds, targs = [], []\n",
    "        with torch.no_grad():\n",
    "            for i, (x, t, m) in enumerate(loader):\n",
    "                x, t = x.to(device), t.numpy()\n",
    "                if getattr(model, 'meta_injection', None):\n",
    "                    if overwrite is not None:\n",
    "                        m = torch.ones_like(m)*overwrite\n",
    "                    m = m.to(device)\n",
    "                    logits = model(x, m)\n",
    "                else:\n",
    "                    logits = model(x)\n",
    "                preds.append(logits.to('cpu').numpy())\n",
    "                targs.append(t)\n",
    "                if i == max_batch:\n",
    "                    break\n",
    "\n",
    "        ensemble.append(np.vstack(preds))\n",
    "        targets.append(np.vstack(targs))\n",
    "    \n",
    "    assert np.all(targets[0] == np.array(targets).mean(axis=0)), 'Targets across the ensemble do not match'\n",
    "    \n",
    "    return np.array(ensemble).squeeze(), targets[0]"
   ]
  },
  {
   "cell_type": "code",
   "execution_count": null,
   "id": "1cc89678",
   "metadata": {},
   "outputs": [],
   "source": [
    "def tta_predict(model, loader, data, tta_iter=1, overwrite=None):\n",
    "    result_ens = []\n",
    "    for i in range(tta_iter):\n",
    "        preds, targets = batch_prediction(model, loader, device=device, overwrite=overwrite)\n",
    "        results = data.meta_df.copy()\n",
    "        results['tta'] = i\n",
    "        results['p'] = scipy.special.expit(preds)\n",
    "        result_ens.append(results)\n",
    "    return pd.concat(result_ens)"
   ]
  },
  {
   "cell_type": "code",
   "execution_count": null,
   "id": "c0cc0db9",
   "metadata": {},
   "outputs": [],
   "source": [
    "#results_train = tta_predict(model, train_loader, train_data, tta_iter=1)"
   ]
  },
  {
   "cell_type": "code",
   "execution_count": null,
   "id": "82e70184",
   "metadata": {},
   "outputs": [],
   "source": [
    "results_val = tta_predict(model, valid_loader, valid_data, tta_iter=1)\n",
    "results_val2 = tta_predict(model, valid_loader2, valid_data2, tta_iter=1)"
   ]
  },
  {
   "cell_type": "code",
   "execution_count": null,
   "id": "eb302bee",
   "metadata": {},
   "outputs": [],
   "source": [
    "#results_val2_negative = tta_predict(model, valid_loader2, valid_data2, tta_iter=1, overwrite=-1)\n",
    "#results_val2_positive = tta_predict(model, valid_loader2, valid_data2, tta_iter=1, overwrite=1)\n",
    "#results_val2_zero = tta_predict(model, valid_loader2, valid_data2, tta_iter=1, overwrite=0)\n",
    "#results_val2_supermale = tta_predict(model, valid_loader2, valid_data2, tta_iter=1, overwrite=-200)"
   ]
  },
  {
   "cell_type": "code",
   "execution_count": null,
   "id": "9b42908f",
   "metadata": {},
   "outputs": [],
   "source": [
    "if False:\n",
    "    fig = plt.figure(figsize=(20,7))\n",
    "    fig.suptitle('Trained on 0.1 male (-1) prevalence and 0.5 female (1) prevalence')\n",
    "\n",
    "    plt.subplot(151)\n",
    "    plt.grid()\n",
    "    sns.boxenplot(data = results_val2, x='Target', y='p', hue='Sex')\n",
    "    plt.title('true sex')\n",
    "\n",
    "    plt.subplot(152)\n",
    "    plt.grid()\n",
    "    sns.boxenplot(data = results_val2_negative, x='Target', y='p', hue='Sex')\n",
    "    plt.title('all male')\n",
    "\n",
    "    plt.subplot(153)\n",
    "    plt.grid()\n",
    "    sns.boxenplot(data = results_val2_positive, x='Target', y='p', hue='Sex')\n",
    "    plt.title('all female')\n",
    "\n",
    "    plt.subplot(154)\n",
    "    plt.grid()\n",
    "    sns.boxenplot(data = results_val2_zero, x='Target', y='p', hue='Sex')\n",
    "    plt.title('no sex (0)')\n",
    "\n",
    "    plt.subplot(155)\n",
    "    plt.grid()\n",
    "    sns.boxenplot(data = results_val2_supermale, x='Target', y='p', hue='Sex')\n",
    "    plt.title('super male (-200)')"
   ]
  },
  {
   "cell_type": "code",
   "execution_count": null,
   "id": "87f7eafc",
   "metadata": {},
   "outputs": [],
   "source": [
    "#results_train_mean = results_train.groupby(['patientId', 'Modality', 'Sex', 'Age'])['p', 'Target'].mean().reset_index()\n",
    "results_val_mean = results_val.groupby(['patientId', 'Modality', 'Sex', 'Age'])['p', 'Target'].mean().reset_index()\n",
    "results_val2_mean = results_val2.groupby(['patientId', 'Modality', 'Sex', 'Age'])['p', 'Target'].mean().reset_index()"
   ]
  },
  {
   "cell_type": "code",
   "execution_count": null,
   "id": "47b956c9",
   "metadata": {},
   "outputs": [],
   "source": [
    "plt.figure(figsize=(20,7))\n",
    "plt.subplot(131)\n",
    "#sns.boxenplot(data = results_train_mean, x='Target', y='p', hue='Sex')\n",
    "plt.subplot(132)\n",
    "sns.boxenplot(data = results_val_mean, x='Target', y='p', hue='Sex')\n",
    "plt.subplot(133)\n",
    "sns.boxenplot(data = results_val2_mean, x='Target', y='p', hue='Sex')"
   ]
  },
  {
   "cell_type": "code",
   "execution_count": null,
   "id": "2bbe22d9",
   "metadata": {},
   "outputs": [],
   "source": [
    "def score_functions(x, y):\n",
    "    try : \n",
    "        tpr, fpr, _ = skm.roc_curve(y, x)\n",
    "        auc = skm.auc(tpr, fpr)\n",
    "    except ValueError:\n",
    "        auc = np.nan\n",
    "    try:\n",
    "        bce = skm.log_loss(y, x)\n",
    "    except ValueError:\n",
    "        bce = np.nan\n",
    "    return auc, bce\n",
    "\n",
    "def get_scores(df, name=''):\n",
    "    \n",
    "    score_list = []\n",
    "    for tta_ix, df in df.groupby('tta'):\n",
    "\n",
    "        scores = {\n",
    "            'name': name,\n",
    "            'tta': tta_ix\n",
    "        }\n",
    "\n",
    "        m = df['Sex'] == -1\n",
    "        f = df['Sex'] == 1\n",
    "        \n",
    "        scores['auc_m'], scores['bce_m'] = score_functions(df.p[m], df.Target[m])\n",
    "        scores['auc_f'], scores['bce_f'] = score_functions(df.p[f], df.Target[f])\n",
    "        scores['auc'], scores['bce'] = score_functions(df.p, df.Target)\n",
    "        \n",
    "        score_list.append(scores)\n",
    "\n",
    "    return pd.DataFrame(score_list)\n",
    "\n",
    "\n",
    "def plot_rocauc(df, scores):\n",
    "    \n",
    "        m = df['Sex'] == -1\n",
    "        f = df['Sex'] == 1\n",
    "        \n",
    "        try:\n",
    "            tpr, fpr, _ = skm.roc_curve(df.Target[m], df.p[m])\n",
    "            auc = scores['auc_m'].mean()\n",
    "            plt.plot(tpr, fpr, label=f'M AUC: {auc:.3f}')\n",
    "        except ValueError:\n",
    "            pass\n",
    "        \n",
    "        try:\n",
    "            tpr, fpr, _ = skm.roc_curve(df.Target[f], df.p[f])\n",
    "            auc = scores['auc_f'].mean()\n",
    "            plt.plot(tpr, fpr, label=f'F AUC: {auc:.3f}')\n",
    "        except ValueError:\n",
    "            pass\n",
    "        \n",
    "        try:\n",
    "            tpr, fpr, _ = skm.roc_curve(df.Target, df.p)\n",
    "            auc = scores['auc'].mean()\n",
    "            plt.plot(tpr, fpr, label=f'All AUC: {auc:.3f}')\n",
    "        except ValueError:\n",
    "            pass\n",
    "        plt.legend(loc='lower right')"
   ]
  },
  {
   "cell_type": "code",
   "execution_count": null,
   "id": "b638e283",
   "metadata": {},
   "outputs": [],
   "source": [
    "evaluate = (\n",
    "    #(results_train, 'train'),\n",
    "    (results_val, 'val1'),\n",
    "    (results_val2, 'val2'),\n",
    "    #(results_val2_zero, 'val2_zero')\n",
    ")\n",
    "\n",
    "all_scores = []\n",
    "fig = plt.figure(figsize=(20,5))\n",
    "for ix, (df, name) in enumerate(evaluate):\n",
    "    plt.subplot(1,len(evaluate),ix+1)\n",
    "    scores = get_scores(df, name)\n",
    "    all_scores.append(scores)\n",
    "    plot_rocauc(df, scores)\n",
    "    plt.title(name)\n",
    "all_scores = pd.concat(all_scores)\n",
    "\n",
    "fig.savefig(os.path.join(dirname, 'auc.png'))"
   ]
  },
  {
   "cell_type": "code",
   "execution_count": null,
   "id": "9f8c1e09",
   "metadata": {},
   "outputs": [],
   "source": [
    "train_sampling = ledger['train_setup']['0']['setup']['sampling_config']"
   ]
  },
  {
   "cell_type": "code",
   "execution_count": null,
   "id": "fdca6af7",
   "metadata": {},
   "outputs": [],
   "source": [
    "all_scores['max_samples'] = train_sampling['max_samples']\n",
    "all_scores['frac_meta1_tar1'] = round(train_sampling['frac_meta1_tar1'],1)\n",
    "all_scores['frac_meta0_tar1'] = round(train_sampling['frac_meta0_tar1'],1)\n",
    "all_scores['frac_meta0'] = round(train_sampling['frac_meta0'],1)"
   ]
  },
  {
   "cell_type": "code",
   "execution_count": null,
   "id": "4781088d",
   "metadata": {},
   "outputs": [],
   "source": [
    "all_scores"
   ]
  },
  {
   "cell_type": "code",
   "execution_count": null,
   "id": "b84623ad",
   "metadata": {},
   "outputs": [],
   "source": [
    "all_scores.to_csv(os.path.join(dirname, 'scores.csv'))"
   ]
  },
  {
   "cell_type": "code",
   "execution_count": null,
   "id": "b2a591e1",
   "metadata": {},
   "outputs": [],
   "source": [
    "fig = plt.figure(figsize=(20,5))\n",
    "\n",
    "def rolling_mean_prob(x, y, nroll=50, label=''):\n",
    "    plt.plot(x.rolling(nroll).mean(), y.rolling(nroll).mean(), label=label)\n",
    "\n",
    "\n",
    "for ix, (df, name) in enumerate(evaluate):\n",
    "    plt.subplot(1,3,ix+1)\n",
    "    \n",
    "    df = df.sort_values(by='p')\n",
    "    \n",
    "    m = df.Sex == -1\n",
    "    rolling_mean_prob(df[m].p, df[m].Target, label='M')\n",
    "    \n",
    "    f = df.Sex == 1\n",
    "    rolling_mean_prob(df[f].p, df[f].Target, label='F')\n",
    "\n",
    "    rolling_mean_prob(df.p, df.Target, label='All', nroll=150)\n",
    "\n",
    "    plt.ylabel('target mean')\n",
    "    plt.xlabel('predicted probability mean')\n",
    "    plt.plot([0,1], [0,1], 'k:')\n",
    "\n",
    "    plt.legend()\n",
    "    \n",
    "fig.savefig(os.path.join(dirname, 'calibration.png'))"
   ]
  },
  {
   "cell_type": "code",
   "execution_count": null,
   "id": "cd8fb0ac",
   "metadata": {},
   "outputs": [],
   "source": [
    "if False:\n",
    "    \n",
    "    # historgram of errors\n",
    "    plt.figure(figsize=(20,5))\n",
    "\n",
    "    results = results.sort_values(by='p')\n",
    "\n",
    "    diff = results.Target*np.log(results.p)+(1-results.Target)*np.log(1-results.p)\n",
    "\n",
    "\n",
    "    plt.subplot(121)\n",
    "    plt.hist([diff[results.Sex == 0], diff[results.Sex == 1]], label=['F', 'M'], bins=20, density=True, log=True)\n",
    "    plt.legend()\n",
    "\n",
    "    plt.subplot(122)\n",
    "    plt.hist([diff[results['AP/PA'] == 'AP'], diff[results['AP/PA'] == 'PA']], label=['AP', 'PA'], bins=100, density=True)\n",
    "\n",
    "    plt.legend()"
   ]
  },
  {
   "cell_type": "markdown",
   "id": "1e1906d8",
   "metadata": {},
   "source": [
    "## Explainability"
   ]
  },
  {
   "cell_type": "code",
   "execution_count": null,
   "id": "47cf4607",
   "metadata": {},
   "outputs": [],
   "source": [
    "#import gradcam\n",
    "#gradcam_model = gradcam.GradCAM(model, model._modules['head']._modules['relu'])\n",
    "#gradcam_model = gradcam.GradCAM(model, model._modules['features']._modules['norm5'])"
   ]
  },
  {
   "cell_type": "code",
   "execution_count": null,
   "id": "7a46197a",
   "metadata": {},
   "outputs": [],
   "source": [
    "def explain(image_ids):\n",
    "    for i in image_ids:\n",
    "        plt.figure(figsize=(20, 4.5))\n",
    "        img, tar = valid_data[i]\n",
    "\n",
    "        plt.subplot(131)\n",
    "        plt.imshow(img[0], cmap=plt.cm.viridis)\n",
    "        plt.axis('off')\n",
    "\n",
    "        plt.subplot(132)\n",
    "        plt.imshow(img[0], cmap=plt.cm.bone)\n",
    "        plt.axis('off')\n",
    "\n",
    "        #labels = [external_valid_data.targets[q] for q in np.where(external_tar[i,:]>0.5)[0]]\n",
    "        #plt.title('\\n'.join(labels))\n",
    "\n",
    "        plt.subplot(133)\n",
    "        mask, _ = gradcam_model(img.unsqueeze(0).to(device), class_idx=0)\n",
    "        heatmap, result = gradcam.utils.visualize_cam(mask, img[0])\n",
    "        plt.imshow((result.T.numpy().swapaxes(0,1)+1)/2) #, cmap=plt.cm.bone)\n",
    "        plt.axis('off')"
   ]
  },
  {
   "cell_type": "code",
   "execution_count": null,
   "id": "75f77583",
   "metadata": {},
   "outputs": [],
   "source": [
    "def gradcam_analysis(valid_data, i):  \n",
    "    plt.figure(figsize=(20, 4.5))\n",
    "    img, tar, _ = valid_data[i]\n",
    "    print(tar)\n",
    "    \n",
    "    plt.subplot(131)\n",
    "    plt.imshow(img[0], cmap=plt.cm.viridis)\n",
    "    plt.axis('off')\n",
    "\n",
    "    plt.subplot(132)\n",
    "    plt.imshow(img[0], cmap=plt.cm.bone)\n",
    "    plt.axis('off')\n",
    "\n",
    "    #labels = [external_valid_data.targets[q] for q in np.where(external_tar[i,:]>0.5)[0]]\n",
    "    #plt.title('\\n'.join(labels))\n",
    "\n",
    "    plt.subplot(133)\n",
    "    mask, _ = gradcam_model(img.unsqueeze(0).to(device), class_idx=0)\n",
    "    heatmap, result = gradcam.utils.visualize_cam(mask, img[0])\n",
    "    plt.imshow((result.T.numpy().swapaxes(0,1)+1)/2) #, cmap=plt.cm.bone)\n",
    "    plt.axis('off')\n",
    "\n",
    "    return heatmap"
   ]
  },
  {
   "cell_type": "code",
   "execution_count": null,
   "id": "b4261bb9",
   "metadata": {
    "lines_to_next_cell": 0
   },
   "outputs": [],
   "source": [
    "#ix = 11\n",
    "#h = gradcam_analysis(valid_data, ix)"
   ]
  },
  {
   "cell_type": "code",
   "execution_count": null,
   "id": "b72cd24e",
   "metadata": {},
   "outputs": [],
   "source": []
  },
  {
   "cell_type": "code",
   "execution_count": null,
   "id": "4c6c4f35",
   "metadata": {
    "lines_to_next_cell": 2
   },
   "outputs": [],
   "source": []
  }
 ],
 "metadata": {
  "jupytext": {
   "formats": "ipynb,py"
  },
  "kernelspec": {
   "display_name": "base",
   "language": "python",
   "name": "base"
  }
 },
 "nbformat": 4,
 "nbformat_minor": 5
}
